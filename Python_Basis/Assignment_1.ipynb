{
  "nbformat": 4,
  "nbformat_minor": 0,
  "metadata": {
    "colab": {
      "name": "Assignment_1.ipynb",
      "provenance": []
    },
    "kernelspec": {
      "name": "python3",
      "display_name": "Python 3"
    },
    "language_info": {
      "name": "python"
    }
  },
  "cells": [
    {
      "cell_type": "markdown",
      "source": [
        "# Assignment 1 Solutions\n",
        "\n",
        "---\n",
        "\n"
      ],
      "metadata": {
        "id": "EWFUY-oei0s-"
      }
    },
    {
      "cell_type": "markdown",
      "source": [
        "**1. In the below elements which of them are values or an expression? eg:- values can be**\n",
        "**integer or string and expressions will be mathematical operators.**\n",
        "\n",
        "`*, 'hello', -87.8, -, /, +, 6 `\n",
        "\n",
        "**Solution -** \n",
        "\n",
        "**Values:** 'hello', -87.8, 6\n",
        "\n",
        "**Expression:**  *, -, /, +\n",
        "\n",
        "---\n",
        "\n"
      ],
      "metadata": {
        "id": "HrRORldPfwyu"
      }
    },
    {
      "cell_type": "markdown",
      "source": [
        "**2. What is the difference between string and variable?**\n",
        "\n",
        "**Solution -**\n",
        "\n",
        "A Variable is used to store the information in the memory. A variable can store multiple types of data (eg- integer, float, string etc). A string is one of the types of data which can be stored in a variable.\n",
        "\n",
        "\n",
        "---\n",
        "\n"
      ],
      "metadata": {
        "id": "IuIqGJI2lZ4I"
      }
    },
    {
      "cell_type": "markdown",
      "source": [
        "**3. Describe three different data types.**\n",
        "\n",
        "**Solution -**\n",
        "\n",
        "**i. int :** it represents interger numbers.\n",
        "\n",
        "**ii. float :** it represents float numbers (decimal values).\n",
        "\n",
        "**iii. complex :** it represents complex numbers.\n",
        "\n",
        "\n",
        "---\n",
        "\n"
      ],
      "metadata": {
        "id": "MFlmB7Qyneyv"
      }
    },
    {
      "cell_type": "markdown",
      "source": [
        "**4. What is an expression made up of? What do all expressions do?**\n",
        "\n",
        "**Solution -**\n",
        "\n",
        "An `expression` is made up of values, operators and variables. \n",
        "\n",
        "An `expression` contain some information which is to be evaluated by the Python interpreter and corresponding value is generated.\n",
        "\n",
        "---\n",
        "\n"
      ],
      "metadata": {
        "id": "iYcW7qr0o0q2"
      }
    },
    {
      "cell_type": "markdown",
      "source": [
        "**5. This assignment statements, like spam = 10. What is the difference between** **an expression and a statement?**\n",
        "\n",
        "**Solution -**\n",
        "\n",
        "An `expression` is a combination of values, variables, and operators.When we type an expression at the prompt, the interpreter evaluates it, which means that it finds the value of the expression.\n",
        "\n",
        "**example :** 4*5+20-40 is an example of an expression\n",
        "\n",
        "Whereas any `instruction` that a python interpreter can execute (carry out) is called a `Statement`.\n",
        "\n",
        "**example :** variable declaration and variable assignment are statements.\n",
        "\n",
        "---\n",
        "\n"
      ],
      "metadata": {
        "id": "AzC_Qdj9qslG"
      }
    },
    {
      "cell_type": "markdown",
      "source": [
        "**6. After running the following code, what does the variable bacon contain?**\n",
        "\n",
        "**bacon = 22**\n",
        "\n",
        "**bacon + 1**\n",
        "\n",
        "\n",
        "**Solution -**\n",
        "\n",
        "Variable `bacon` contains `22`. Second line code `bacon + 1` will not increment variable bacon to 23 because, there is no assignment operation to bacon (`bacon = bacon + 1`). So, ultimately bacon will contain 22.\n",
        "\n",
        "\n",
        "---\n",
        "\n",
        "\n",
        "\n"
      ],
      "metadata": {
        "id": "8LXt61BDuWMP"
      }
    },
    {
      "cell_type": "markdown",
      "source": [
        "**7. What should the values of the following two terms be?**\n",
        "\n",
        "**'spam' + 'spamspam'**\n",
        "\n",
        "**'spam' * 3**\n",
        "\n",
        "**Solution -**\n",
        "\n",
        "output of `'spam' + 'spamspam'` is `spamspamspam`\n",
        "\n",
        "output of `'spam' * 3` is `spamspamspam`"
      ],
      "metadata": {
        "id": "eQpcrheEE3h3"
      }
    },
    {
      "cell_type": "code",
      "source": [
        "print('spam' + 'spamspam')\n",
        "print('spam'*3)"
      ],
      "metadata": {
        "colab": {
          "base_uri": "https://localhost:8080/"
        },
        "id": "47Gjx76yGaC-",
        "outputId": "a5e6143a-beae-4050-a35c-2cb203a6527f"
      },
      "execution_count": null,
      "outputs": [
        {
          "output_type": "stream",
          "name": "stdout",
          "text": [
            "spamspamspam\n",
            "spamspamspam\n"
          ]
        }
      ]
    },
    {
      "cell_type": "markdown",
      "source": [
        "\n",
        "\n",
        "---\n",
        "\n"
      ],
      "metadata": {
        "id": "t513GiwkGrC5"
      }
    },
    {
      "cell_type": "markdown",
      "source": [
        "**8. Why is eggs a valid variable name while 100 is invalid?**\n",
        "\n",
        "**Solution -**\n",
        "\n",
        "Rule for declaration of a variable -\n",
        "\n",
        "i. A variable name must start with a letter or the underscore character.<br>\n",
        "ii. A variable name cannot start with a number. <br>\n",
        "iii. A variable name can only contain alpha-numeric characters and underscores (A-z, 0-9, and _ ) <br> \n",
        "iv. Variable names are case-sensitive (age, Age and AGE are three different variables)\n",
        "\n",
        "`eggs` is following above rules so it is a valid variable but `100` is violating the rule no. i, so it is not a valid variable declaration.\n",
        "\n",
        "\n",
        "---\n",
        "\n",
        "\n",
        "\n",
        " \n"
      ],
      "metadata": {
        "id": "jJ7gtrMAGuai"
      }
    },
    {
      "cell_type": "markdown",
      "source": [
        "**9. What three functions can be used to get the integer, floating-point number, or string\n",
        "version of a value?**\n",
        "\n",
        "**Solution -**\n",
        "\n",
        "The int(), float(), and str() functions are use to get the integer,floating point number, string version of the value respectively."
      ],
      "metadata": {
        "id": "nhAYxGrQJYYU"
      }
    },
    {
      "cell_type": "code",
      "source": [
        "num1 = 100.0  # flaot\n",
        "num2 = 200 # integer\n",
        "\n",
        "print(\"Interget version of num1 : \",int(num1))\n",
        "print(\"Float version of num2 : \",float(num2))\n",
        "print(\"String version of num1 : {} and num2 : {} \".format(str(num1),str(num2)))"
      ],
      "metadata": {
        "colab": {
          "base_uri": "https://localhost:8080/"
        },
        "id": "kb4cxkgeKovX",
        "outputId": "3745e921-35b9-4a3e-83f7-6aba6331a412"
      },
      "execution_count": null,
      "outputs": [
        {
          "output_type": "stream",
          "name": "stdout",
          "text": [
            "Interget version of num1 :  100\n",
            "Float version of num2 :  200.0\n",
            "String version of num1 : 100.0 and num2 : 200 \n"
          ]
        }
      ]
    },
    {
      "cell_type": "markdown",
      "source": [
        "\n",
        "\n",
        "---\n",
        "\n"
      ],
      "metadata": {
        "id": "ndNUYUTVLgd9"
      }
    },
    {
      "cell_type": "markdown",
      "source": [
        "**10. Why does this expression cause an error? How can you fix it?**</br>\n",
        "**'I have eaten' + 99 + 'burritos.'**\n",
        "\n",
        "**Solution -** </br>\n",
        "The given line will cause an error because there is a string concatenation of non string type data. <br>\n",
        "`'I have eaten'` and `'burritos.'` are strings. So, their concatenation is possible but `99` is an integer, it's concatenation is not possible with above two strings.\n",
        "\n",
        "Correct way to write - <br>\n",
        "Type cast the integer `99` to string. <br>\n",
        "We can write - <br>\n",
        "`'I have eaten' + str(99) + 'burritos.'`\n"
      ],
      "metadata": {
        "id": "3dZJ0yyWLi1w"
      }
    },
    {
      "cell_type": "code",
      "source": [
        "print(\"Expression with an eror\")\n",
        "print('I have eaten' + 99 + 'burritos.')"
      ],
      "metadata": {
        "colab": {
          "base_uri": "https://localhost:8080/",
          "height": 201
        },
        "id": "m0k2zY42Nhsl",
        "outputId": "2c57e521-ec79-495e-e780-d52bc50d8759"
      },
      "execution_count": null,
      "outputs": [
        {
          "output_type": "stream",
          "name": "stdout",
          "text": [
            "Expression with an eror\n"
          ]
        },
        {
          "output_type": "error",
          "ename": "TypeError",
          "evalue": "ignored",
          "traceback": [
            "\u001b[0;31m---------------------------------------------------------------------------\u001b[0m",
            "\u001b[0;31mTypeError\u001b[0m                                 Traceback (most recent call last)",
            "\u001b[0;32m<ipython-input-3-f8df448f0e73>\u001b[0m in \u001b[0;36m<module>\u001b[0;34m\u001b[0m\n\u001b[1;32m      1\u001b[0m \u001b[0mprint\u001b[0m\u001b[0;34m(\u001b[0m\u001b[0;34m\"Expression with an eror\"\u001b[0m\u001b[0;34m)\u001b[0m\u001b[0;34m\u001b[0m\u001b[0;34m\u001b[0m\u001b[0m\n\u001b[0;32m----> 2\u001b[0;31m \u001b[0mprint\u001b[0m\u001b[0;34m(\u001b[0m\u001b[0;34m'I have eaten'\u001b[0m \u001b[0;34m+\u001b[0m \u001b[0;36m99\u001b[0m \u001b[0;34m+\u001b[0m \u001b[0;34m'burritos.'\u001b[0m\u001b[0;34m)\u001b[0m\u001b[0;34m\u001b[0m\u001b[0;34m\u001b[0m\u001b[0m\n\u001b[0m",
            "\u001b[0;31mTypeError\u001b[0m: can only concatenate str (not \"int\") to str"
          ]
        }
      ]
    },
    {
      "cell_type": "code",
      "source": [
        "print(\"Expression with no error\")\n",
        "print('I have eaten' + str(99) + 'burritos.')"
      ],
      "metadata": {
        "id": "xLSPHWYaN4yg",
        "outputId": "00a553b6-9767-4383-c809-640d4285b830",
        "colab": {
          "base_uri": "https://localhost:8080/"
        }
      },
      "execution_count": null,
      "outputs": [
        {
          "output_type": "stream",
          "name": "stdout",
          "text": [
            "Expression with no error\n",
            "I have eaten99burritos.\n"
          ]
        }
      ]
    },
    {
      "cell_type": "markdown",
      "source": [
        "\n",
        "\n",
        "---\n",
        "\n"
      ],
      "metadata": {
        "id": "5WFXQM03N7fh"
      }
    },
    {
      "cell_type": "markdown",
      "source": [
        "### Submitted By - Pranav Kumar\n",
        "### Date - 23/08/2022"
      ],
      "metadata": {
        "id": "6I_pOb67PFlV"
      }
    }
  ]
}
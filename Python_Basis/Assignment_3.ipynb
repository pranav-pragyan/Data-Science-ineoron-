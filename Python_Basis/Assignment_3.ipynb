{
  "nbformat": 4,
  "nbformat_minor": 0,
  "metadata": {
    "colab": {
      "name": "Assignment_3.ipynb",
      "provenance": [],
      "collapsed_sections": []
    },
    "kernelspec": {
      "name": "python3",
      "display_name": "Python 3"
    },
    "language_info": {
      "name": "python"
    }
  },
  "cells": [
    {
      "cell_type": "markdown",
      "source": [
        "\n",
        "# Assignment 3 Solutions\n",
        "\n",
        "---\n",
        "\n"
      ],
      "metadata": {
        "id": "Hzv_83lH2nkm"
      }
    },
    {
      "cell_type": "markdown",
      "source": [
        "**1. Why are functions advantageous to have in your programs?**\n",
        "\n",
        "**Solution -** <br>\n",
        "The major advantage of functions is code Reusability, means we can use the same code multiple time instead of writing it again and again. Also, it makes programs shorter, easier to read, easier to update and easier to maintain.\n",
        "\n",
        "\n",
        "---\n",
        "\n"
      ],
      "metadata": {
        "id": "2CXipIP52uvn"
      }
    },
    {
      "cell_type": "markdown",
      "source": [
        "**2. When does the code in a function run: when it's specified or when it's called?**\n",
        "\n",
        "**Solution -** <br>\n",
        "The code in a function runs when the function is called, not when the function is specified.\n",
        "\n",
        "---\n",
        "\n"
      ],
      "metadata": {
        "id": "UaNF8xTf4DLe"
      }
    },
    {
      "cell_type": "markdown",
      "source": [
        "**3. What statement creates a function?**\n",
        "\n",
        "**Solution -** <br>\n",
        "`def` keyword is used to create a function. <br>\n",
        "Structure of a function in Python -\n",
        "\n",
        "\n",
        "\n",
        "\n",
        "\n",
        "\n",
        "\n",
        "\n",
        "\n"
      ],
      "metadata": {
        "id": "ozuvNJxO5URb"
      }
    },
    {
      "cell_type": "code",
      "source": [
        "def function_name(parameters):\n",
        "  \"\"\"Doc String\"\"\"\n",
        "  #Function body\n",
        "  #return value"
      ],
      "metadata": {
        "id": "it-SPBeBTyAw"
      },
      "execution_count": null,
      "outputs": []
    },
    {
      "cell_type": "markdown",
      "source": [
        "\n",
        "\n",
        "---\n",
        "\n"
      ],
      "metadata": {
        "id": "qmG6jkHtUK01"
      }
    },
    {
      "cell_type": "markdown",
      "source": [
        "**4. What is the difference between a function and a function call?**\n",
        "\n",
        "**Solution -** <br>\n",
        "A function is procedure to achieve a particular result, whereas function call is a call to start a execution of a function.\n",
        "\n",
        "---\n",
        "\n"
      ],
      "metadata": {
        "id": "cY9nSpcjUNK-"
      }
    },
    {
      "cell_type": "markdown",
      "source": [
        "**5. How many global scopes are there in a Python program? How many local scopes?**\n",
        "\n",
        "**Solution -** <br>\n",
        "There is only one global scope in a Pyhton program whereas for each function call, a local scope is created.\n",
        "\n",
        "---\n",
        "\n"
      ],
      "metadata": {
        "id": "DmL0lReQU9Wb"
      }
    },
    {
      "cell_type": "markdown",
      "source": [
        "**6. What happens to variables in a local scope when the function call returns?**\n",
        "\n",
        "**Solution -** <br>\n",
        "When a function returns, it's activation record from stack (in main memory) is removed. This activation record keeps all the variables of a function (which has local scope). So, these variables are also removed.\n",
        "\n",
        "---\n",
        "\n"
      ],
      "metadata": {
        "id": "VXy3ToudWSOX"
      }
    },
    {
      "cell_type": "markdown",
      "source": [
        "**7. What is the concept of a return value? Is it possible to have a return value in an expression?**\n",
        "\n",
        "**Solution -** <br>\n",
        "Return of a function is a value which is send back to the function call. This return value has final result after execution of the function. <br>\n",
        "\n",
        "Yes, return value can have an expression\n",
        "\n",
        "\n",
        "---\n",
        "\n"
      ],
      "metadata": {
        "id": "wViZtXmGXkYI"
      }
    },
    {
      "cell_type": "markdown",
      "source": [
        "**8. If a function does not have a return statement, what is the return value of a call to that function?**\n",
        "\n",
        "**Solution -** <br>\n",
        "`None` \n",
        "\n",
        "Example - "
      ],
      "metadata": {
        "id": "Uy739mmFbNSY"
      }
    },
    {
      "cell_type": "code",
      "source": [
        "def test():\n",
        "  print(\"hiii\")\n",
        "  return\n",
        "\n",
        "a = test()\n",
        "print(a)"
      ],
      "metadata": {
        "colab": {
          "base_uri": "https://localhost:8080/"
        },
        "id": "8LgLdWuWb_oO",
        "outputId": "c865d462-1f50-4456-9191-5fcbbbbc8fc6"
      },
      "execution_count": 2,
      "outputs": [
        {
          "output_type": "stream",
          "name": "stdout",
          "text": [
            "hiii\n",
            "None\n"
          ]
        }
      ]
    },
    {
      "cell_type": "markdown",
      "source": [
        "\n",
        "\n",
        "---\n",
        "\n"
      ],
      "metadata": {
        "id": "pwFtOo1LccBG"
      }
    },
    {
      "cell_type": "markdown",
      "source": [
        "**9. How do you make a function variable refer to the global variable?**\n",
        "\n",
        "**Solution -** <br>\n",
        "We can use the `global` keyword to declare function variables as global variables.\n",
        "\n",
        "---\n",
        "\n"
      ],
      "metadata": {
        "id": "2qG5E901ch1m"
      }
    },
    {
      "cell_type": "markdown",
      "source": [
        "**10. What is the data type of None?**\n",
        "\n",
        "**Solution -** <br>\n",
        "`NoneType`"
      ],
      "metadata": {
        "id": "d77F9PLkiTfl"
      }
    },
    {
      "cell_type": "code",
      "source": [
        "def test():\n",
        "  return\n",
        "\n",
        "a = test()\n",
        "print(type(a))"
      ],
      "metadata": {
        "colab": {
          "base_uri": "https://localhost:8080/"
        },
        "id": "0CEn4uQ7i-ZV",
        "outputId": "e1e92344-a180-46fa-81b0-9cecf4446499"
      },
      "execution_count": 3,
      "outputs": [
        {
          "output_type": "stream",
          "name": "stdout",
          "text": [
            "<class 'NoneType'>\n"
          ]
        }
      ]
    },
    {
      "cell_type": "markdown",
      "source": [
        "\n",
        "\n",
        "---\n",
        "\n"
      ],
      "metadata": {
        "id": "n7VCBtGjivYN"
      }
    },
    {
      "cell_type": "markdown",
      "source": [
        "**11. What does the sentence import areallyourpetsnamederic do?**\n",
        "\n",
        "**Solution -** <br>\n",
        "The sentence `import areallyourpetsnamederic` will import the areallyourpetsnamederic named module.\n",
        "\n",
        "---\n",
        "\n"
      ],
      "metadata": {
        "id": "RkPSEkNdjXCh"
      }
    },
    {
      "cell_type": "markdown",
      "source": [
        "**12. If you had a bacon() feature in a spam module, what would you call it after importing spam?**\n",
        "\n",
        "**Solution -** <br>\n",
        "This function can be called with spam.bacon().\n",
        "\n",
        "---\n",
        "\n"
      ],
      "metadata": {
        "id": "IaRCSvFiIFWa"
      }
    },
    {
      "cell_type": "markdown",
      "source": [
        "**13. What can you do to save a programme from crashing if it encounters an error?**\n",
        "\n",
        "**Solution -** <br>\n",
        "We can use `try` and `catch` blocks to save a programme from crashing.\n",
        "\n",
        "---\n",
        "\n"
      ],
      "metadata": {
        "id": "lk3zAscXIeGs"
      }
    },
    {
      "cell_type": "markdown",
      "source": [
        "**14. What is the purpose of the try clause? What is the purpose of the except clause?**\n",
        "\n",
        "**Solution -** <br>\n",
        "The `try` block lets us test a block of code for errors.\n",
        "\n",
        "The `except` clause is use to filter out specific results from a SELECT statement. \n",
        "\n",
        "\n",
        "---\n",
        "\n"
      ],
      "metadata": {
        "id": "AkzFfalTKicj"
      }
    }
  ]
}
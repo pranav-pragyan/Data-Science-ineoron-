{
  "nbformat": 4,
  "nbformat_minor": 0,
  "metadata": {
    "colab": {
      "name": "Assignment_6.ipynb",
      "provenance": [],
      "collapsed_sections": [],
      "authorship_tag": "ABX9TyPatTsbPowcNSCGQO+VgjIP",
      "include_colab_link": true
    },
    "kernelspec": {
      "name": "python3",
      "display_name": "Python 3"
    },
    "language_info": {
      "name": "python"
    }
  },
  "cells": [
    {
      "cell_type": "markdown",
      "metadata": {
        "id": "view-in-github",
        "colab_type": "text"
      },
      "source": [
        "<a href=\"https://colab.research.google.com/github/pranav-pragyan/Data-Science-ineoron-/blob/main/Python_Basis/Assignment_6.ipynb\" target=\"_parent\"><img src=\"https://colab.research.google.com/assets/colab-badge.svg\" alt=\"Open In Colab\"/></a>"
      ]
    },
    {
      "cell_type": "markdown",
      "source": [
        "\n",
        "# Assignment 6 Solutions\n",
        "\n",
        "---\n",
        "\n"
      ],
      "metadata": {
        "id": "_DYqUFzUpxRY"
      }
    },
    {
      "cell_type": "markdown",
      "source": [
        "**1. What are escape characters, and how do you use them?**\n",
        "\n",
        "**Solution -** <br>\n",
        "Escape characters are use to insert characters that are illegal in a string.\n",
        "<br> An escape character is a backslash `\\` followed by the character you want to insert. <br>\n",
        "We can use the backslash character to escape a single character or symbol\n",
        "\n",
        "Example - `\\n`, `\\t`.\n",
        "\n",
        "---\n",
        "\n"
      ],
      "metadata": {
        "id": "rBvEwGRWp_9_"
      }
    },
    {
      "cell_type": "markdown",
      "source": [
        "**2. What do the escape characters n and t stand for?**\n",
        "\n",
        "**Solution -** <br>\n",
        "`\\n` is used for new line and `\\t` is used for tab.\n",
        "\n",
        "---\n",
        "\n"
      ],
      "metadata": {
        "id": "pSp8O8i8rGWZ"
      }
    },
    {
      "cell_type": "markdown",
      "source": [
        "**3. What is the way to include backslash characters in a string?**\n",
        "\n",
        "**Solution -** <br>\n",
        "The `\\\\` escape character represent the backslash character in a string."
      ],
      "metadata": {
        "id": "RPIlfKacrvgB"
      }
    },
    {
      "cell_type": "code",
      "source": [
        "text1 = \"This is my \\text\"\n",
        "text2 = \"This is my \\\\text\"\n",
        "print(text1)\n",
        "print(text2)"
      ],
      "metadata": {
        "colab": {
          "base_uri": "https://localhost:8080/"
        },
        "id": "dS6sXq8nsYL3",
        "outputId": "e5f8462d-b83c-4d96-ff68-1616d007dde3"
      },
      "execution_count": 17,
      "outputs": [
        {
          "output_type": "stream",
          "name": "stdout",
          "text": [
            "This is my \text\n",
            "This is my \\text\n"
          ]
        }
      ]
    },
    {
      "cell_type": "markdown",
      "source": [
        "\n",
        "\n",
        "---\n",
        "\n"
      ],
      "metadata": {
        "id": "7S4vEQ_fvgEf"
      }
    },
    {
      "cell_type": "markdown",
      "source": [
        "**4. The string \"Howl's Moving Castle\" is a correct value. Why isn't the single quote character in the word Howl's not escaped a problem?**\n",
        "\n",
        "**solution -** <br>\n",
        "`\"Howl's Moving Castle\"` escaped the problem because it is wrapped inside double quotes. If it is wrapped inside single quote then interpreter will confuse with what is the end of the string, interpreter will think that `'Howl'` is a string and for the rest characters, it will show an error. <br>\n",
        "\n",
        "If `\"Howl's Moving Castle\"` wrapped inside single quotes then we have to use escape character `\\'` to show single quote in the final output.\n"
      ],
      "metadata": {
        "id": "9_gQ4juLvr7Q"
      }
    },
    {
      "cell_type": "code",
      "source": [
        "print(\"Incorrect Way\")\n",
        "t = 'Howl's Moving Castle'\n",
        "print(t)"
      ],
      "metadata": {
        "colab": {
          "base_uri": "https://localhost:8080/",
          "height": 131
        },
        "id": "DzaoHdc3wrsM",
        "outputId": "f11139b3-ec7e-441a-9a43-4dcaa246570e"
      },
      "execution_count": 19,
      "outputs": [
        {
          "output_type": "error",
          "ename": "SyntaxError",
          "evalue": "ignored",
          "traceback": [
            "\u001b[0;36m  File \u001b[0;32m\"<ipython-input-19-8f2f63536ae8>\"\u001b[0;36m, line \u001b[0;32m2\u001b[0m\n\u001b[0;31m    t = 'Howl's Moving Castle'\u001b[0m\n\u001b[0m              ^\u001b[0m\n\u001b[0;31mSyntaxError\u001b[0m\u001b[0;31m:\u001b[0m invalid syntax\n"
          ]
        }
      ]
    },
    {
      "cell_type": "code",
      "source": [
        "print(\"Correct Way 1\")\n",
        "t = \"Howl's Moving Castle\"\n",
        "print(t)\n",
        "print()\n",
        "print(\"Correct Way 2\")\n",
        "t = 'Howl\\'s Moving Castle'\n",
        "print(t)"
      ],
      "metadata": {
        "colab": {
          "base_uri": "https://localhost:8080/"
        },
        "id": "wBHXnvC6yZAN",
        "outputId": "1c164d72-fca8-4961-cd6f-ab694e43b15d"
      },
      "execution_count": 20,
      "outputs": [
        {
          "output_type": "stream",
          "name": "stdout",
          "text": [
            "Correct Way 1\n",
            "Howl's Moving Castle\n",
            "\n",
            "Correct Way 2\n",
            "Howl's Moving Castle\n"
          ]
        }
      ]
    },
    {
      "cell_type": "markdown",
      "source": [
        "\n",
        "\n",
        "---\n",
        "\n"
      ],
      "metadata": {
        "id": "Jl0-6cYYy5fz"
      }
    },
    {
      "cell_type": "markdown",
      "source": [
        "**5. How do you write a string of newlines if you don't want to use the n character?**\n",
        "\n",
        "**Solution -** <br>\n",
        "We can use multiline string if we don't want to use \\n for new line.\n",
        "\n",
        "Example -"
      ],
      "metadata": {
        "id": "mXtN89mty7rL"
      }
    },
    {
      "cell_type": "code",
      "source": [
        "t = '''Howl's Moving \n",
        "    Castl'''\n",
        "print(t)\n",
        "print(\"\\n ---OR--- \\n\")\n",
        "t = \"\"\"Howl's Moving \n",
        "    Castl\"\"\"\n",
        "print(t)"
      ],
      "metadata": {
        "colab": {
          "base_uri": "https://localhost:8080/"
        },
        "id": "s197X_d2zMpT",
        "outputId": "253e4eb2-5380-4356-f1bd-c461a31dc768"
      },
      "execution_count": 27,
      "outputs": [
        {
          "output_type": "stream",
          "name": "stdout",
          "text": [
            "Howl's Moving \n",
            "    Castl\n",
            "\n",
            " ---OR--- \n",
            "\n",
            "Howl's Moving \n",
            "    Castl\n"
          ]
        }
      ]
    },
    {
      "cell_type": "markdown",
      "source": [
        "\n",
        "\n",
        "---\n",
        "\n"
      ],
      "metadata": {
        "id": "MtFXb4RQ2Rk_"
      }
    },
    {
      "cell_type": "markdown",
      "source": [
        "**6. What are the values of the given expressions?** <br>\n",
        "'Hello, world!'[1] <br>\n",
        "'Hello, world!'[0:5] <br>\n",
        "'Hello, world!'[:5] <br>\n",
        "'Hello, world!'[3:] <br>\n",
        "**Solution -** <br>\n",
        "`'Hello, world!'[1]` => `'e'` <br>\n",
        "`'Hello, world!'[0:5]` => `'Hello'` <br>\n",
        "`'Hello, world!'[:5]` => `'Hello'` <br>\n",
        "`'Hello, world!'[3:]` => `'lo, world!'` \n",
        "\n",
        "---\n",
        "\n"
      ],
      "metadata": {
        "id": "bBAiFIP82TG8"
      }
    },
    {
      "cell_type": "markdown",
      "source": [
        "**7. What are the values of the following expressions?** <br>\n",
        "&#39;Hello&#39;.upper() <br>\n",
        "&#39;Hello&#39;.upper().isupper() <br>\n",
        "&#39;Hello&#39;.upper().lower() <br>\n",
        "\n",
        "**Solution -** <br>\n",
        "`'Hello'.upper() ` => `'HELLO'` <br>\n",
        "`'Hello'.upper().isupper() ` => `True` <br>\n",
        "`'Hello'.upper().lower() ` => `'hello'`\n",
        "\n",
        "---\n",
        "\n"
      ],
      "metadata": {
        "id": "Q8S3-MGc3mBM"
      }
    },
    {
      "cell_type": "markdown",
      "source": [
        "**8. What are the values of the following expressions?** <br>\n",
        "&#39;Remember, remember, the fifth of July.&#39;.split() <br>\n",
        "&#39;-&#39;.join(&#39;There can only one.&#39;.split())\n",
        "\n",
        "**solution -** <br>\n",
        "`'Remember, remember, the fifth of July.'.split()`  => `['Remember,', 'remember,', 'the', 'fifth', 'of', 'July.']` <br>\n",
        "\n",
        "`'-'.join('There can only one.'.split())` => `'-'.(['There', 'can', 'only', 'one.'])` => `'There-can-only-one.'`\n",
        "\n",
        "---\n",
        "\n"
      ],
      "metadata": {
        "id": "vwiRLO8K5NMc"
      }
    },
    {
      "cell_type": "markdown",
      "source": [
        "**9. What are the methods for right-justifying, left-justifying, and centering a string?**\n",
        "\n",
        "**Solution -** <br>\n",
        "The rjust(),ljust(),center() string methods respectively\n",
        "\n",
        "---\n",
        "\n"
      ],
      "metadata": {
        "id": "LO-2xDDX7QBZ"
      }
    },
    {
      "cell_type": "markdown",
      "source": [
        "**10. What is the best way to remove whitespace characters from the start or end?**\n",
        "\n",
        "**Solution -** <br>\n",
        "`stripe()` method for removing left and right whitespace. <br>\n",
        "`lstripe()` method for removing left whitespace. <br>\n",
        "`rstripe()` method for removing right whitespace. <br>\n",
        "\n",
        "---\n",
        "\n"
      ],
      "metadata": {
        "id": "btzM-WAG8ZUI"
      }
    },
    {
      "cell_type": "markdown",
      "source": [
        "### Submitted By - Pranav Kumar\n",
        "### Date - 26/08/2022"
      ],
      "metadata": {
        "id": "_zMdhCpH9ApZ"
      }
    }
  ]
}
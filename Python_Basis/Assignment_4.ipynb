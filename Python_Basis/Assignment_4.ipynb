{
  "nbformat": 4,
  "nbformat_minor": 0,
  "metadata": {
    "colab": {
      "name": "Assignment_4.ipynb",
      "provenance": [],
      "collapsed_sections": []
    },
    "kernelspec": {
      "name": "python3",
      "display_name": "Python 3"
    },
    "language_info": {
      "name": "python"
    }
  },
  "cells": [
    {
      "cell_type": "markdown",
      "source": [
        "# Assignment 4 Solutions\n",
        "\n",
        "---\n",
        "\n"
      ],
      "metadata": {
        "id": "6WT6E7NbedZH"
      }
    },
    {
      "cell_type": "markdown",
      "source": [
        "**1. What exactly is []?**\n",
        "\n",
        "**Solution -** <br>\n",
        "`[]` is used to represent a list with no elements.\n",
        "\n",
        "\n",
        "---\n",
        "\n"
      ],
      "metadata": {
        "id": "ksFBj_YBeiBd"
      }
    },
    {
      "cell_type": "markdown",
      "source": [
        "**2. In a list of values stored in a variable called spam, how would you assign the value 'hello' as the third value? (Assume [2, 4, 6, 8, 10] are in spam.)**\n",
        "\n",
        "**Solution -** <br>\n",
        "spam.insert(2,'hello')"
      ],
      "metadata": {
        "id": "rrPPX2WelxQj"
      }
    },
    {
      "cell_type": "code",
      "source": [
        "spam = [2, 4, 6, 8, 10]\n",
        "spam.insert(2,'hello')\n",
        "spam "
      ],
      "metadata": {
        "colab": {
          "base_uri": "https://localhost:8080/"
        },
        "id": "bd8XyZrfpBXl",
        "outputId": "8e5a0cdb-d6f0-4317-d2f2-e7c7cdf1bb0d"
      },
      "execution_count": null,
      "outputs": [
        {
          "output_type": "execute_result",
          "data": {
            "text/plain": [
              "[2, 4, 'hello', 6, 8, 10]"
            ]
          },
          "metadata": {},
          "execution_count": 2
        }
      ]
    },
    {
      "cell_type": "markdown",
      "source": [
        "\n",
        "\n",
        "---\n",
        "\n"
      ],
      "metadata": {
        "id": "2tZ9JeKMpkVH"
      }
    },
    {
      "cell_type": "markdown",
      "source": [
        "### Let's pretend the spam includes the list ['a', 'b', 'c', 'd'] for the next three queries.\n",
        "\n",
        "spam = ['a', 'b', 'c', 'd'] "
      ],
      "metadata": {
        "id": "AbzdY6fYqnUo"
      }
    },
    {
      "cell_type": "markdown",
      "source": [
        "**3. What is the value of spam[int(int('3' * 2) / 11)]?**\n",
        "\n",
        "**Solution -** <br>\n",
        "`spam[int(int('3' * 2) / 11)]` <br>\n",
        "=> `spam[int(int('33') / 11)]` <br>\n",
        "=> `spam[int(33 / 11)]` <br>\n",
        "=> `spam[int(33 / 11)]` <br>\n",
        "=> `spam[3]` <br>\n",
        "=> `'d'`"
      ],
      "metadata": {
        "id": "deXZn-SAptCS"
      }
    },
    {
      "cell_type": "code",
      "source": [
        "spam = ['a', 'b', 'c', 'd']\n",
        "a = spam[int(int('3' * 2) / 11)] \n",
        "a"
      ],
      "metadata": {
        "colab": {
          "base_uri": "https://localhost:8080/",
          "height": 35
        },
        "id": "1w-hy3Srrwyx",
        "outputId": "9fb5bbba-d8bc-4f12-b972-c949f57c901d"
      },
      "execution_count": null,
      "outputs": [
        {
          "output_type": "execute_result",
          "data": {
            "text/plain": [
              "'d'"
            ],
            "application/vnd.google.colaboratory.intrinsic+json": {
              "type": "string"
            }
          },
          "metadata": {},
          "execution_count": 3
        }
      ]
    },
    {
      "cell_type": "markdown",
      "source": [
        "\n",
        "\n",
        "---\n",
        "\n"
      ],
      "metadata": {
        "id": "OTWnx-w9sp9Q"
      }
    },
    {
      "cell_type": "markdown",
      "source": [
        "**4. What is the value of spam[-1]?**\n",
        "\n",
        "**Solution -** <br>\n",
        "[-1] => last element in the list. So, `spam[-1] = 'd'`\n"
      ],
      "metadata": {
        "id": "NCYtfRgkstBC"
      }
    },
    {
      "cell_type": "code",
      "source": [
        "spam[-1] "
      ],
      "metadata": {
        "colab": {
          "base_uri": "https://localhost:8080/",
          "height": 35
        },
        "id": "bLBoYo3AtBNZ",
        "outputId": "af1bd655-d136-42a1-ac74-a09552be0b06"
      },
      "execution_count": null,
      "outputs": [
        {
          "output_type": "execute_result",
          "data": {
            "text/plain": [
              "'d'"
            ],
            "application/vnd.google.colaboratory.intrinsic+json": {
              "type": "string"
            }
          },
          "metadata": {},
          "execution_count": 4
        }
      ]
    },
    {
      "cell_type": "markdown",
      "source": [
        "\n",
        "\n",
        "---\n",
        "\n"
      ],
      "metadata": {
        "id": "-sqlVu-atL8P"
      }
    },
    {
      "cell_type": "markdown",
      "source": [
        "**5. What is the value of spam[:2]?**\n",
        "\n",
        "**Solution -** <br>\n",
        "[:2] => all elements from start (0th index) till 2nd index(exclude last index,that is 2nd index). spam[:2] = ['a','b']"
      ],
      "metadata": {
        "id": "D2aoKG7LtMM7"
      }
    },
    {
      "cell_type": "code",
      "source": [
        " spam[:2]"
      ],
      "metadata": {
        "colab": {
          "base_uri": "https://localhost:8080/"
        },
        "id": "f6LIflW_ud-w",
        "outputId": "78d6cd06-80b7-4f18-8bfa-3b2ede76851c"
      },
      "execution_count": null,
      "outputs": [
        {
          "output_type": "execute_result",
          "data": {
            "text/plain": [
              "['a', 'b']"
            ]
          },
          "metadata": {},
          "execution_count": 6
        }
      ]
    },
    {
      "cell_type": "markdown",
      "source": [
        "\n",
        "\n",
        "---\n",
        "\n"
      ],
      "metadata": {
        "id": "lthxR4P6u2tG"
      }
    },
    {
      "cell_type": "markdown",
      "source": [
        "### Let's pretend bacon has the list [3.14, 'cat', 11, 'cat', True] for the next three questions.\n",
        "\n",
        "bacon = [3.14, 'cat', 11, 'cat', True]"
      ],
      "metadata": {
        "id": "2AaF3ztmu-mY"
      }
    },
    {
      "cell_type": "markdown",
      "source": [
        "**6. What is the value of bacon.index('cat')?**\n",
        "\n",
        "**Solution -** <br>\n",
        "`bacon.index('cat')` will give the first occurance of `'cat'`.So, `bacon.index('cat')` = `1`"
      ],
      "metadata": {
        "id": "1S2yYeDLve4r"
      }
    },
    {
      "cell_type": "code",
      "source": [
        "bacon = [3.14, 'cat', 11, 'cat', True]\n",
        "bacon.index('cat')"
      ],
      "metadata": {
        "colab": {
          "base_uri": "https://localhost:8080/"
        },
        "id": "ZxESm7KQv5nX",
        "outputId": "35af64d0-339f-43d1-978f-29ecf986566f"
      },
      "execution_count": null,
      "outputs": [
        {
          "output_type": "execute_result",
          "data": {
            "text/plain": [
              "1"
            ]
          },
          "metadata": {},
          "execution_count": 8
        }
      ]
    },
    {
      "cell_type": "markdown",
      "source": [
        "\n",
        "\n",
        "---\n",
        "\n"
      ],
      "metadata": {
        "id": "G870b9lmwDto"
      }
    },
    {
      "cell_type": "markdown",
      "source": [
        "**7. How does bacon.append(99) change the look of the list value in bacon?**\n",
        "\n",
        "**Solution -** <br>\n",
        "`bacon.append(99)` will add `99` at the end of the list bacon. Before appending 99, bacon was `bacon = [3.14, 'cat', 11, 'cat', True]` but after appending 99, bacon will look like `bacon = [3.14, 'cat', 11, 'cat', True,99]`"
      ],
      "metadata": {
        "id": "w4qY6axnwP5v"
      }
    },
    {
      "cell_type": "code",
      "source": [
        "bacon.append(99)\n",
        "bacon"
      ],
      "metadata": {
        "colab": {
          "base_uri": "https://localhost:8080/"
        },
        "id": "yHFwXhHV2cyr",
        "outputId": "fbc997b7-5755-4b8f-a3b6-5129fa7806e1"
      },
      "execution_count": null,
      "outputs": [
        {
          "output_type": "execute_result",
          "data": {
            "text/plain": [
              "[3.14, 'cat', 11, 'cat', True, 99]"
            ]
          },
          "metadata": {},
          "execution_count": 9
        }
      ]
    },
    {
      "cell_type": "markdown",
      "source": [
        "\n",
        "\n",
        "---\n",
        "\n"
      ],
      "metadata": {
        "id": "1PYgDpNI2kt4"
      }
    },
    {
      "cell_type": "markdown",
      "source": [
        "**8. How does bacon.remove('cat') change the look of the list in bacon?**\n",
        "\n",
        "**Solution -** <br>\n",
        "`bacon.remove('cat') `will remove the first occurance of `'cat'`.\n",
        "\n",
        "Before `bacon.remove('cat') ` => `bacon = [3.14, 'cat', 11, 'cat', True, 99]`<br>\n",
        "After `bacon.remove('cat') ` => `bacon = [3.14, 11, 'cat', True, 99]`"
      ],
      "metadata": {
        "id": "VYFi6vhA4fsr"
      }
    },
    {
      "cell_type": "code",
      "source": [
        "bacon.remove('cat')\n",
        "bacon"
      ],
      "metadata": {
        "colab": {
          "base_uri": "https://localhost:8080/"
        },
        "id": "kwzF3xUc4fIz",
        "outputId": "8e60a9eb-e381-455b-b264-6e461ce77de6"
      },
      "execution_count": null,
      "outputs": [
        {
          "output_type": "execute_result",
          "data": {
            "text/plain": [
              "[3.14, 11, 'cat', True, 99]"
            ]
          },
          "metadata": {},
          "execution_count": 10
        }
      ]
    },
    {
      "cell_type": "markdown",
      "source": [
        "\n",
        "\n",
        "---\n",
        "\n"
      ],
      "metadata": {
        "id": "mxUS9TF75b2-"
      }
    },
    {
      "cell_type": "markdown",
      "source": [
        "**9. What are the list concatenation and list replication operators?**\n",
        "\n",
        "**Solution -** <br>\n",
        "`+` is used as list concatenation operator and `*` is used as list replication operator. <br>\n",
        "\n",
        "Example - "
      ],
      "metadata": {
        "id": "lB7YZQAH5ddq"
      }
    },
    {
      "cell_type": "code",
      "source": [
        "a = [1,2,3]\n",
        "b = [4,5,6]\n",
        "print(\"List concatenation using + : \",end = \" \")\n",
        "print(a+b)\n",
        "print()\n",
        "print(\"List replication using * : \",end=\" \")\n",
        "print(a*3)"
      ],
      "metadata": {
        "colab": {
          "base_uri": "https://localhost:8080/"
        },
        "id": "YsJaDjdj5-w_",
        "outputId": "356d8abb-2036-4551-8ef8-c67e6e91b555"
      },
      "execution_count": null,
      "outputs": [
        {
          "output_type": "stream",
          "name": "stdout",
          "text": [
            "List concatenation using + :  [1, 2, 3, 4, 5, 6]\n",
            "\n",
            "List replication using * :  [1, 2, 3, 1, 2, 3, 1, 2, 3]\n"
          ]
        }
      ]
    },
    {
      "cell_type": "markdown",
      "source": [
        "\n",
        "\n",
        "---\n",
        "\n"
      ],
      "metadata": {
        "id": "J0pdbOPs6pTY"
      }
    },
    {
      "cell_type": "markdown",
      "source": [
        "**10. What is difference between the list methods append() and insert()?**\n",
        "\n",
        "**Solution -** <br>\n",
        "`append()` method always inserts new element at the end of the list whereas `insert()` method inserts new elements at the specified position.\n",
        "\n",
        "\n",
        "---\n",
        "\n"
      ],
      "metadata": {
        "id": "g5pWboVE6tSO"
      }
    },
    {
      "cell_type": "markdown",
      "source": [
        "**11. What are the two methods for removing items from a list?**\n",
        "\n",
        "**Solution -** <br>\n",
        "`remove()` and `pop()` are the two methods for removing items from a list. <br>\n",
        "\n",
        "`remove()` removes the first occurance of the given element'. <br>\n",
        "`pop()` removes the element from the given index.\n",
        "\n",
        "---\n",
        "\n"
      ],
      "metadata": {
        "id": "pnW3XnPy7Rmb"
      }
    },
    {
      "cell_type": "markdown",
      "source": [
        "**12. Describe how list values and string values are identical.**\n",
        "\n",
        "**Solution -** <br>\n",
        "Both list and string are iterable, and can be sliced.\n",
        "\n",
        "\n",
        "---\n",
        "\n"
      ],
      "metadata": {
        "id": "lOaWodbK9Egw"
      }
    },
    {
      "cell_type": "markdown",
      "source": [
        "**13. What's the difference between tuples and lists?**\n",
        "\n",
        "**Solution -** <br>\n",
        "i.  Tuple is immulable but list is mulable. <br>\n",
        "ii. Tuple consumes less memory and list consumes more memory than tuple.\n",
        "\n",
        "---\n",
        "\n"
      ],
      "metadata": {
        "id": "9cE50Hda9jat"
      }
    },
    {
      "cell_type": "markdown",
      "source": [
        "**14. How do you type a tuple value that only contains the integer 42?**\n",
        "\n",
        "**Solution -** <br>\n",
        "`(42,)`"
      ],
      "metadata": {
        "id": "T0dGb2HE4fFC"
      }
    },
    {
      "cell_type": "code",
      "source": [
        "t = (42,)\n",
        "print(t)\n",
        "print(type(t))"
      ],
      "metadata": {
        "colab": {
          "base_uri": "https://localhost:8080/"
        },
        "id": "CoQgU_wn5bbQ",
        "outputId": "bb725f25-340b-43e8-9617-b71d09f2445b"
      },
      "execution_count": 1,
      "outputs": [
        {
          "output_type": "stream",
          "name": "stdout",
          "text": [
            "(42,)\n",
            "<class 'tuple'>\n"
          ]
        }
      ]
    },
    {
      "cell_type": "markdown",
      "source": [
        "\n",
        "\n",
        "---\n",
        "\n"
      ],
      "metadata": {
        "id": "eOyg8ZN25n8O"
      }
    },
    {
      "cell_type": "markdown",
      "source": [
        "**15. How do you get a list value's tuple form? How do you get a tuple value's list form?**\n",
        "\n",
        "**Solution -**<br>\n",
        "Using list() function we can convert a tuple into a list and using tuple() function we can convert a list into a tuple.\n",
        "\n",
        "\n"
      ],
      "metadata": {
        "id": "jg1qMPWH5pfg"
      }
    },
    {
      "cell_type": "code",
      "source": [
        "t = (1,2,3)\n",
        "l = ['a','b','c']\n",
        "print(\"Tuple : \",t)\n",
        "print(\"Tuple converted to a list : \",list(t))\n",
        "print(\"List : \",l)\n",
        "print(\"List converted to a tuple : \",tuple(l))"
      ],
      "metadata": {
        "colab": {
          "base_uri": "https://localhost:8080/"
        },
        "id": "rFP0K2Bu6kqs",
        "outputId": "18a31f89-d1dc-4fdb-bd4b-af7d0a449275"
      },
      "execution_count": 3,
      "outputs": [
        {
          "output_type": "stream",
          "name": "stdout",
          "text": [
            "Tuple :  (1, 2, 3)\n",
            "Tuple converted to a list :  [1, 2, 3]\n",
            "List :  ['a', 'b', 'c']\n",
            "List converted to a tuple :  ('a', 'b', 'c')\n"
          ]
        }
      ]
    },
    {
      "cell_type": "markdown",
      "source": [
        "\n",
        "\n",
        "---\n",
        "\n"
      ],
      "metadata": {
        "id": "o2GvkZLM9djF"
      }
    },
    {
      "cell_type": "markdown",
      "source": [
        "**16. Variables that \"contain\" list values are not necessarily lists themselves. Instead, what do they contain?**\n",
        "\n",
        "**Solution -** <br>\n",
        "Variables may contain references to list values.\n",
        "\n",
        "\n",
        "---\n",
        "\n"
      ],
      "metadata": {
        "id": "T6kwMMhG90O9"
      }
    },
    {
      "cell_type": "markdown",
      "source": [
        "**17. How do you distinguish between copy.copy() and copy.deepcopy()?**\n",
        "\n",
        "**Solution -** <br>\n",
        "Both `copy.copy()` and `copy.deepcopy()` create a new compound object but `copy.copy()` inserts references into it (new object) to the elements found in the original but `copy.deepcopy()` recursively inserts copies into the new object of the elements found in the original. <br>\n",
        "Only `copy.deepcopy()` will duplicate any list(s) inside the list."
      ],
      "metadata": {
        "id": "xxRyv4b4B0Pk"
      }
    },
    {
      "cell_type": "code",
      "source": [
        "import copy\n",
        "l = [1,2,3,[4,5]]\n",
        "l2 = copy.copy(l)\n",
        "\n",
        "print(\"It is a shallow copy\\n\")\n",
        "print(\"Before making shallow copy of l : \",l)\n",
        "l2[3][0] = 100\n",
        "\n",
        "print(\"shallow Copy of l : \",l2)\n",
        "print(\"After modifying list element in the l2 (original list l) : \",l)\n",
        "\n",
        "print(\"\\nIt is a deep Copy\\n\")\n",
        "l3 = copy.deepcopy(l)\n",
        "print(\"Before making deep copy of l : \",l)\n",
        "l3[3][0] = 500\n",
        "\n",
        "print(\"deep Copy of l : \",l3)\n",
        "print(\"After modifying list element in the l3 (original list l) : \",l)\n"
      ],
      "metadata": {
        "colab": {
          "base_uri": "https://localhost:8080/"
        },
        "id": "OlKdRFqqdpmQ",
        "outputId": "fe5fe67f-4f7d-4359-fe10-5795e518221e"
      },
      "execution_count": 8,
      "outputs": [
        {
          "output_type": "stream",
          "name": "stdout",
          "text": [
            "It is a shallow copy\n",
            "\n",
            "Before making shallow copy of l :  [1, 2, 3, [4, 5]]\n",
            "shallow Copy of l :  [1, 2, 3, [100, 5]]\n",
            "After modifying list element in the l2 (original list l) :  [1, 2, 3, [100, 5]]\n",
            "\n",
            "It is a deep Copy\n",
            "\n",
            "Before making deep copy of l :  [1, 2, 3, [100, 5]]\n",
            "deep Copy of l :  [1, 2, 3, [500, 5]]\n",
            "After modifying list element in the l3 (original list l) :  [1, 2, 3, [100, 5]]\n"
          ]
        }
      ]
    },
    {
      "cell_type": "markdown",
      "source": [
        "\n",
        "\n",
        "---\n",
        "\n"
      ],
      "metadata": {
        "id": "m3sVQxj6iwYE"
      }
    },
    {
      "cell_type": "markdown",
      "source": [
        "### Submitted By - Pranav Kumar\n",
        "### Date - 25/08/2022"
      ],
      "metadata": {
        "id": "kNvkdNJRi5rT"
      }
    }
  ]
}
{
  "nbformat": 4,
  "nbformat_minor": 0,
  "metadata": {
    "colab": {
      "name": "Assignment_2.ipynb",
      "provenance": []
    },
    "kernelspec": {
      "name": "python3",
      "display_name": "Python 3"
    },
    "language_info": {
      "name": "python"
    }
  },
  "cells": [
    {
      "cell_type": "markdown",
      "source": [
        "\n",
        "# Assignment 2 Solutions\n",
        "\n",
        "---\n",
        "\n"
      ],
      "metadata": {
        "id": "MAadsdXHQeT2"
      }
    },
    {
      "cell_type": "markdown",
      "source": [
        "**1.What are the two values of the Boolean data type? How do you write them?**\n",
        "\n",
        "**Solution -** <br>\n",
        "The two boolean data types are `True` and `False`. In Python, we have to use capital T and F and with the rest of the letters in lowercase for true and false respectively.\n",
        "\n"
      ],
      "metadata": {
        "id": "dtmjHGJnQlFN"
      }
    },
    {
      "cell_type": "code",
      "source": [
        "a=True\n",
        "b=False\n",
        "print(\"a is {} and its type is {}\".format(a,type(a)))\n",
        "print(\"b is {} and its type is {}\".format(b,type(b)))"
      ],
      "metadata": {
        "colab": {
          "base_uri": "https://localhost:8080/"
        },
        "id": "uayZSETtRnvZ",
        "outputId": "78aa1ab4-5549-45e6-f1a8-9db39f902c9b"
      },
      "execution_count": 1,
      "outputs": [
        {
          "output_type": "stream",
          "name": "stdout",
          "text": [
            "a is True and its type is <class 'bool'>\n",
            "b is False and its type is <class 'bool'>\n"
          ]
        }
      ]
    },
    {
      "cell_type": "markdown",
      "source": [
        "\n",
        "\n",
        "---\n",
        "\n"
      ],
      "metadata": {
        "id": "W1hsKbVHSFwI"
      }
    },
    {
      "cell_type": "markdown",
      "source": [
        "**2. What are the three different types of Boolean operators?**\n",
        "\n",
        "**Solution -**<br>\n",
        "The three different types of Boolean operators in python are: `and`, `or`, and `not`\n",
        "\n",
        "---\n",
        "\n"
      ],
      "metadata": {
        "id": "GfBF5K4lSJg6"
      }
    },
    {
      "cell_type": "markdown",
      "source": [
        "**3. Make a list of each Boolean operator's truth tables (i.e. every possible combination of Boolean values for the operator and what it evaluate ).**\n",
        "\n",
        "**Solution -** <br>\n",
        "i. Truth Table for AND Operator -<br>\n",
        "True `and` True  is True <br>\n",
        "True `and` False is False <br>\n",
        "False `and` True  is False <br>\n",
        "False `and` False  is False <br> \n",
        "\n",
        "ii. Truth Table for OR Operator -<br>\n",
        "True `or` True  is True <br>\n",
        "True `or` False is True <br>\n",
        "False `or` True  is True <br>\n",
        "False `or` False  is False <br>\n",
        "\n",
        "iii. Truth Table for NOT Operator -<br>\n",
        "True `not` is False <br>\n",
        "False `not` is True <br>\n",
        "\n",
        "\n",
        "\n",
        "\n",
        "---\n",
        "\n",
        "\n",
        "\n"
      ],
      "metadata": {
        "id": "DLwDL-WRTJqA"
      }
    },
    {
      "cell_type": "markdown",
      "source": [
        "**4. What are the values of the following expressions?** <br>\n",
        "(5 > 4) and (3 == 5) <br>\n",
        "not (5 > 4) <br>\n",
        "(5 > 4) or (3 == 5) <br>\n",
        "not ((5 > 4) or (3 == 5)) <br>\n",
        "(True and True) and (True == False) <br>\n",
        "(not False) or (not True) \n",
        "\n",
        "**Solution -** <br>\n",
        "`(5 > 4) and (3 == 5)` => `True and False` => `False` <br>\n",
        "`not (5 > 4)` => `not True` => `False` <br>\n",
        "`(5 > 4) or (3 == 5)` => `True or False` => `True` <br>\n",
        "`not ((5 > 4) or (3 == 5))` => `not(True or False)` => `not(True)` => `False` <br>\n",
        "`(True and True) and (True == False)` =>` True and False` => `False` <br>\n",
        "`(not False) or (not True) ` => `True or False ` => `True`\n",
        "\n",
        "\n",
        "---\n",
        "\n",
        "\n",
        "\n",
        "\n",
        "\n",
        "\n",
        "\n",
        "\n",
        "\n",
        "\n"
      ],
      "metadata": {
        "id": "TGTIXn8KVKM1"
      }
    },
    {
      "cell_type": "markdown",
      "source": [
        "**5. What are the six comparison operators?**\n",
        "\n",
        "**Solution -** <br>\n",
        "The six comparison operators in Python are - <br>\n",
        "`<`, `>`, `<=`, `>=`, `==`, `!=`\n",
        "\n",
        "---\n",
        "\n"
      ],
      "metadata": {
        "id": "DakB2P-GXo7G"
      }
    },
    {
      "cell_type": "markdown",
      "source": [
        "**6. How do you tell the difference between the equal to and assignment operators?Describe a condition and when you would use one.**\n",
        "\n",
        "**Solution -** <br>\n",
        "For equal to, we use `==` and for assignment, we use `=`. Equal to is used when there is a comparison between variables whereas assignment is used when a value is assigned to a variable.\n"
      ],
      "metadata": {
        "id": "Sk1iXo3PZbhO"
      }
    },
    {
      "cell_type": "code",
      "source": [
        "a = 10 # here = is used for assigning the value 10 to variable a.\n",
        "if a == 20: # here a comparision is being done between variable a and value 20.\n",
        "  print(\"yes, {} is equal to 20\".format(a))\n",
        "else:\n",
        "  print(\"no, {} is not equal to 20\".format(a))"
      ],
      "metadata": {
        "colab": {
          "base_uri": "https://localhost:8080/"
        },
        "id": "rA5vB0vaap8O",
        "outputId": "2bab13f6-9de9-43d4-f459-13841820675d"
      },
      "execution_count": 2,
      "outputs": [
        {
          "output_type": "stream",
          "name": "stdout",
          "text": [
            "no, 10 is not equal to 20\n"
          ]
        }
      ]
    },
    {
      "cell_type": "markdown",
      "source": [
        "\n",
        "\n",
        "---\n",
        "\n"
      ],
      "metadata": {
        "id": "HI0-JKVjbjAN"
      }
    },
    {
      "cell_type": "markdown",
      "source": [
        "**7. Identify the three blocks in this code:** <br>\n",
        "**spam = 0** <br>\n",
        "**if spam == 10:**<br>\n",
        "**print('eggs')**<br>\n",
        "**if spam > 5:**<br>\n",
        "**print('bacon')**<br>\n",
        "**else:**<br>\n",
        "**print('ham')**<br>\n",
        "**print('spam')** <br>\n",
        "**print('spam')**\n",
        "\n",
        "**Solution -**<br>\n",
        "\n"
      ],
      "metadata": {
        "id": "EUMQUdTkbrPG"
      }
    },
    {
      "cell_type": "code",
      "source": [
        "spam = 0  \n",
        "if spam == 10:  \n",
        "    print('eggs')  # block 1\n",
        "if spam > 5:  \n",
        "    print('bacon')  # block 2\n",
        "else:  \n",
        "    print('ham')  # block 3\n",
        "    print('spam') # bloack 3\n",
        "    print('spam') # bloack 3"
      ],
      "metadata": {
        "id": "V_KAc1EXdNpQ"
      },
      "execution_count": null,
      "outputs": []
    },
    {
      "cell_type": "markdown",
      "source": [
        "\n",
        "\n",
        "---\n",
        "\n"
      ],
      "metadata": {
        "id": "PY6yLRC6dk8A"
      }
    },
    {
      "cell_type": "markdown",
      "source": [
        "**8. Write code that prints Hello if 1 is stored in spam, prints Howdy if 2 is stored in spam, and prints Greetings! if anything else is stored in spam.**\n",
        "\n",
        "**Solution -**"
      ],
      "metadata": {
        "id": "IvLJJxOXdtrO"
      }
    },
    {
      "cell_type": "code",
      "source": [
        "def spam_value_check(spam):\n",
        "  if spam == 1:\n",
        "    print(\"Hello\")\n",
        "  elif spam == 2:\n",
        "    print(\"Howdy\")\n",
        "  else:\n",
        "    print(\"Greetings!\")\n",
        "\n",
        "spam_value_check(1)\n",
        "spam_value_check(2)\n",
        "spam_value_check(5)"
      ],
      "metadata": {
        "colab": {
          "base_uri": "https://localhost:8080/"
        },
        "id": "dct2S2uad37B",
        "outputId": "b5998d38-6125-46e7-9527-94b640332bf0"
      },
      "execution_count": 4,
      "outputs": [
        {
          "output_type": "stream",
          "name": "stdout",
          "text": [
            "Hello\n",
            "Howdy\n",
            "Greetings!\n"
          ]
        }
      ]
    },
    {
      "cell_type": "markdown",
      "source": [
        "\n",
        "\n",
        "---\n",
        "\n"
      ],
      "metadata": {
        "id": "_aNvq1Bqe7R_"
      }
    },
    {
      "cell_type": "markdown",
      "source": [
        "**9.If your programme is stuck in an endless loop, what keys you’ll press?**\n",
        "\n",
        "**Solution -** <br>\n",
        "Press `Ctrl + c` to terminate a program stucked in an infinite loop.\n",
        "\n",
        "\n",
        "---\n",
        "\n"
      ],
      "metadata": {
        "id": "zrVnVF3YfAGC"
      }
    },
    {
      "cell_type": "markdown",
      "source": [
        "**10. How can you tell the difference between break and continue?**\n",
        "\n",
        "**Solution -** <br>\n",
        "The `break` statement will move the execution outside the loop if break condtion is satisfied whereas `continue` will skip the execution for a specific value and command will go to the start of the loop."
      ],
      "metadata": {
        "id": "ww0-cG-_fiTc"
      }
    },
    {
      "cell_type": "code",
      "source": [
        "for i in range(10):\n",
        "  if i%2 != 0:  # here execution of the loop will be skipped if condition is met and execution control will go to start of the for loop\n",
        "    continue\n",
        "  print(i,end=\" \")\n",
        "\n",
        "print()\n",
        "for i in range(10):\n",
        "  if i==5: # here if the condition is met, execution control will be out of the for loop\n",
        "    break\n",
        "  print(i,end=\" \")"
      ],
      "metadata": {
        "colab": {
          "base_uri": "https://localhost:8080/"
        },
        "id": "ccV3EdYHgg3S",
        "outputId": "f4c834e9-d955-4a34-bda7-56af94a930c6"
      },
      "execution_count": 6,
      "outputs": [
        {
          "output_type": "stream",
          "name": "stdout",
          "text": [
            "0 2 4 6 8 \n",
            "0 1 2 3 4 "
          ]
        }
      ]
    },
    {
      "cell_type": "markdown",
      "source": [
        "\n",
        "\n",
        "---\n",
        "\n"
      ],
      "metadata": {
        "id": "DZcfApfhhoFg"
      }
    },
    {
      "cell_type": "markdown",
      "source": [
        "**11. In a for loop, what is the difference between range(10), range(0, 10), and range(0, 10, 1)?**\n",
        "\n",
        "**Solution -** <br>\n",
        "All the three statements have same meaning because if we write `range(10)`, then by default range will start with `0`, which is same as writing `range(0, 10)`. Similarly, by default step size is 1 which is same as writing `range(0, 10, 1)`. <br>\n",
        "\n",
        "Briefly explaining - <br>\n",
        "`range(10)` : gives a range from 0 to 9 (exclude 10) <br>\n",
        "`range(0, 10)` : gives a range from 0 to 9 (exclude 10), explicitly mentioning start point <br>\n",
        "`range(0, 10, 1)` : gives a range from 0 to 9 (exclude 10), explicitly mentioning step size (by which it will increase or decrease).\n",
        "\n",
        "\n",
        "---\n",
        "\n"
      ],
      "metadata": {
        "id": "QMEt-XdCh-c0"
      }
    },
    {
      "cell_type": "markdown",
      "source": [
        "**12. Write a short program that prints the numbers 1 to 10 using a for loop. Then write an equivalent program that prints the numbers 1 to 10 using a while loop.**\n",
        "\n",
        "**Solution -**\n"
      ],
      "metadata": {
        "id": "URz5jnvDkC5j"
      }
    },
    {
      "cell_type": "code",
      "source": [
        "print(\"numbers 1 to 10 using a for loop\")\n",
        "for i in range(1,11):\n",
        "  print(i,end=\" \")\n",
        "\n",
        "print()\n",
        "print(\"\\nnumbers 1 to 10 using a while loop\")\n",
        "i = 1\n",
        "while i<11:\n",
        "  print(i,end=\" \")\n",
        "  i+=1"
      ],
      "metadata": {
        "colab": {
          "base_uri": "https://localhost:8080/"
        },
        "id": "5z1VqlT9kOyS",
        "outputId": "658375be-b924-41f9-f088-fc8e3e3ca977"
      },
      "execution_count": 9,
      "outputs": [
        {
          "output_type": "stream",
          "name": "stdout",
          "text": [
            "numbers 1 to 10 using a for loop\n",
            "1 2 3 4 5 6 7 8 9 10 \n",
            "\n",
            "numbers 1 to 10 using a while loop\n",
            "1 2 3 4 5 6 7 8 9 10 "
          ]
        }
      ]
    },
    {
      "cell_type": "markdown",
      "source": [
        "\n",
        "\n",
        "---\n",
        "\n"
      ],
      "metadata": {
        "id": "5GRzQfV0k6Oh"
      }
    },
    {
      "cell_type": "markdown",
      "source": [
        "**13. If you had a function named bacon() inside a module named spam, how would you call it after importing spam?**\n",
        "\n",
        "**Solution -** <br>\n",
        "\n",
        "`import spam `<br>\n",
        "\n",
        "`spam.bacon() ` # calling the function `spam` from the `bacon` module.\n",
        "\n",
        "\n",
        "---\n",
        "\n"
      ],
      "metadata": {
        "id": "rxz62ZeGk8HN"
      }
    },
    {
      "cell_type": "markdown",
      "source": [
        "### Submitted By - Pranav Kumar\n",
        "### Date - 24/08/2022"
      ],
      "metadata": {
        "id": "JqWROx2rlk8f"
      }
    }
  ]
}
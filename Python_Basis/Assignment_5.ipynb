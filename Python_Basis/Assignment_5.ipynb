{
  "nbformat": 4,
  "nbformat_minor": 0,
  "metadata": {
    "colab": {
      "name": "Assignment_5.ipynb",
      "provenance": []
    },
    "kernelspec": {
      "name": "python3",
      "display_name": "Python 3"
    },
    "language_info": {
      "name": "python"
    }
  },
  "cells": [
    {
      "cell_type": "markdown",
      "source": [
        "# Assignment 5 Solutions\n",
        "\n",
        "---\n",
        "\n"
      ],
      "metadata": {
        "id": "VO4YpDeVlWFh"
      }
    },
    {
      "cell_type": "markdown",
      "source": [
        "**1. What does an empty dictionary's code look like?**\n",
        "\n",
        "**Solution -** <br>\n",
        "`variable_name = {}` or `variable_name = dict()` <br>\n",
        "Example - d = {} \n",
        "\n",
        "\n",
        "---\n",
        "\n",
        "\n"
      ],
      "metadata": {
        "id": "C7KJ7hm4lcnP"
      }
    },
    {
      "cell_type": "markdown",
      "source": [
        "**2. What is the value of a dictionary value with the key 'foo' and the value 42?**\n",
        "\n",
        "**Solution -** <br>\n",
        "{'foo' : 42}\n",
        "\n",
        "\n",
        "---\n",
        "\n"
      ],
      "metadata": {
        "id": "hDARGLTTpkEv"
      }
    },
    {
      "cell_type": "markdown",
      "source": [],
      "metadata": {
        "id": "HtCCjIPdDPgM"
      }
    },
    {
      "cell_type": "markdown",
      "source": [
        "**3. What is the most significant distinction between a dictionary and a list?**\n",
        "\n",
        "**Solution -** <br>\n",
        "The most significant distinction between a dictionary and a list are -<br>\n",
        "i. A dictionary is unordered but a list is ordered.<br>\n",
        "ii. A dictionary has key-value pair but a list does not have.\n",
        "\n",
        "\n",
        "---\n",
        "\n"
      ],
      "metadata": {
        "id": "TJe-lQoEp3rc"
      }
    },
    {
      "cell_type": "markdown",
      "source": [
        "**4. What happens if you try to access spam['foo'] if spam is {'bar': 100}?**\n",
        "\n",
        "**Solution -** <br>\n",
        "We will get a keyError. <br>\n",
        "`KeyError: 'foo'`.\n",
        "\n",
        "---\n",
        "\n"
      ],
      "metadata": {
        "id": "eUVEzJh8rBxS"
      }
    },
    {
      "cell_type": "markdown",
      "source": [
        "**5. If a dictionary is stored in spam, what is the difference between the expressions 'cat' in spam and 'cat' in spam.keys()?**\n",
        "\n",
        "**Solution -** <br>\n",
        "There is no difference. Both are looking for the key (`'cat'`) in the `spam`.\n",
        "\n",
        "---\n",
        "\n"
      ],
      "metadata": {
        "id": "jnwUw8AhrtXk"
      }
    },
    {
      "cell_type": "markdown",
      "source": [
        "**6. If a dictionary is stored in spam, what is the difference between the expressions 'cat' in spam and 'cat' in spam.values()?**\n",
        "\n",
        "**Solution -** <br>\n",
        "`'cat' in spam` means check whether `'cat'` is present as key whereas `'cat' in spam.values()` means check whether `'cat'` is present as value in the dictionary.\n",
        "\n",
        "\n",
        "---\n",
        "\n"
      ],
      "metadata": {
        "id": "RotvavwGtErj"
      }
    },
    {
      "cell_type": "markdown",
      "source": [
        "**7. What is a shortcut for the following code? <br>\n",
        "if 'color' not in spam: <br>\n",
        "spam['color'] = 'black'**\n",
        "\n",
        "\n",
        "**Solution -** <br>\n",
        "`spam.setdefault('color', 'black') `\n",
        "\n",
        "\n",
        "---\n",
        "\n"
      ],
      "metadata": {
        "id": "hxQK5_NwB0pB"
      }
    },
    {
      "cell_type": "markdown",
      "source": [
        "**8. How do you \"pretty print\" dictionary values using which module and function?**\n",
        "\n",
        "**Solution -** <br>\n",
        "We can pretty print a dictionary using the following three functions -\n",
        "\n",
        "1.   pprint() function of pprint module\n",
        "1.   dumps() method of json module\n",
        "2.   dumps() method of yaml module\n",
        "\n",
        "**NOTE:** pprint() function doesnot prettify nested dictionary.\n",
        "\n",
        "\n",
        "\n"
      ],
      "metadata": {
        "id": "z0Gj-1FyDQ0p"
      }
    },
    {
      "cell_type": "code",
      "source": [
        "import pprint\n",
        "import json\n",
        "import yaml\n",
        "\n",
        "dic = [\n",
        "    {'Name': 'John', 'Age': '23', 'Country': 'USA'},\n",
        "    {'Name': 'Jose', 'Age': '44', 'Country': 'Spain'},\n",
        "    {'Name': 'Anne', 'Age': '29', 'Country': 'UK'},\n",
        "    {'Name': 'Lee', 'Age': '35', 'Country': 'Japan'}\n",
        "]\n",
        "\n",
        "print(\"Normal Print\")\n",
        "print(dic)\n",
        "\n",
        "print(\"\\nPrint using pprint module\")\n",
        "pprint.pprint(dic)\n",
        "\n",
        "print(\"\\nPrint using json module\")\n",
        "dump = json.dumps(dic, indent=4)\n",
        "print(dump)\n",
        "\n",
        "print(\"\\nPrint using yaml module\")\n",
        "dump = yaml.dump(dic)\n",
        "print(dump)"
      ],
      "metadata": {
        "colab": {
          "base_uri": "https://localhost:8080/"
        },
        "id": "yCIL6I0kFZfG",
        "outputId": "415bac87-4648-40bd-af1b-783bd8e14c48"
      },
      "execution_count": 6,
      "outputs": [
        {
          "output_type": "stream",
          "name": "stdout",
          "text": [
            "Normal Print\n",
            "[{'Name': 'John', 'Age': '23', 'Country': 'USA'}, {'Name': 'Jose', 'Age': '44', 'Country': 'Spain'}, {'Name': 'Anne', 'Age': '29', 'Country': 'UK'}, {'Name': 'Lee', 'Age': '35', 'Country': 'Japan'}]\n",
            "\n",
            "Print using pprint module\n",
            "[{'Age': '23', 'Country': 'USA', 'Name': 'John'},\n",
            " {'Age': '44', 'Country': 'Spain', 'Name': 'Jose'},\n",
            " {'Age': '29', 'Country': 'UK', 'Name': 'Anne'},\n",
            " {'Age': '35', 'Country': 'Japan', 'Name': 'Lee'}]\n",
            "\n",
            "Print using json module\n",
            "[\n",
            "    {\n",
            "        \"Name\": \"John\",\n",
            "        \"Age\": \"23\",\n",
            "        \"Country\": \"USA\"\n",
            "    },\n",
            "    {\n",
            "        \"Name\": \"Jose\",\n",
            "        \"Age\": \"44\",\n",
            "        \"Country\": \"Spain\"\n",
            "    },\n",
            "    {\n",
            "        \"Name\": \"Anne\",\n",
            "        \"Age\": \"29\",\n",
            "        \"Country\": \"UK\"\n",
            "    },\n",
            "    {\n",
            "        \"Name\": \"Lee\",\n",
            "        \"Age\": \"35\",\n",
            "        \"Country\": \"Japan\"\n",
            "    }\n",
            "]\n",
            "\n",
            "Print using yaml module\n",
            "- Age: '23'\n",
            "  Country: USA\n",
            "  Name: John\n",
            "- Age: '44'\n",
            "  Country: Spain\n",
            "  Name: Jose\n",
            "- Age: '29'\n",
            "  Country: UK\n",
            "  Name: Anne\n",
            "- Age: '35'\n",
            "  Country: Japan\n",
            "  Name: Lee\n",
            "\n"
          ]
        }
      ]
    },
    {
      "cell_type": "markdown",
      "source": [
        "\n",
        "\n",
        "---\n",
        "\n"
      ],
      "metadata": {
        "id": "It32c6DlG-2a"
      }
    },
    {
      "cell_type": "markdown",
      "source": [
        "### Submitted By - Pranav Kumar\n",
        "### Date - 25/08/2022"
      ],
      "metadata": {
        "id": "E37XApVwHA5P"
      }
    }
  ]
}
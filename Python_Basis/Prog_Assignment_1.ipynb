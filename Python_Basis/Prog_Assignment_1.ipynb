{
  "nbformat": 4,
  "nbformat_minor": 0,
  "metadata": {
    "colab": {
      "name": "Assignment_1.ipynb",
      "provenance": [],
      "authorship_tag": "ABX9TyOkEkGqci+u2+WKlMpdfBiz",
      "include_colab_link": true
    },
    "kernelspec": {
      "name": "python3",
      "display_name": "Python 3"
    },
    "language_info": {
      "name": "python"
    }
  },
  "cells": [
    {
      "cell_type": "markdown",
      "metadata": {
        "id": "view-in-github",
        "colab_type": "text"
      },
      "source": [
        "<a href=\"https://colab.research.google.com/github/pranav-pragyan/Data-Science-ineoron-/blob/main/Python_Basis/Prog_Assignment_1.ipynb\" target=\"_parent\"><img src=\"https://colab.research.google.com/assets/colab-badge.svg\" alt=\"Open In Colab\"/></a>"
      ]
    },
    {
      "cell_type": "markdown",
      "source": [
        "# Programming Assignment 1 Solutions\n",
        "\n",
        "---\n",
        "\n"
      ],
      "metadata": {
        "id": "Vcn1bHQQc_2-"
      }
    },
    {
      "cell_type": "markdown",
      "source": [
        "**1. Write a Python program to print &quot;Hello Python&quot;?**"
      ],
      "metadata": {
        "id": "ET2fwYWNdBXk"
      }
    },
    {
      "cell_type": "code",
      "execution_count": null,
      "metadata": {
        "id": "kYAt1xX69mnF",
        "colab": {
          "base_uri": "https://localhost:8080/"
        },
        "outputId": "3e508047-f4b6-4b17-dcb5-d81c9d625f35"
      },
      "outputs": [
        {
          "output_type": "stream",
          "name": "stdout",
          "text": [
            "Hello Python\n"
          ]
        }
      ],
      "source": [
        "print(\"Hello Python\")"
      ]
    },
    {
      "cell_type": "markdown",
      "source": [
        "\n",
        "\n",
        "---\n",
        "\n"
      ],
      "metadata": {
        "id": "LLABIuuYdVvy"
      }
    },
    {
      "cell_type": "markdown",
      "source": [
        "**2. Write a Python program to do arithmetical operations addition and division.?**"
      ],
      "metadata": {
        "id": "qTz7EKUNdZPv"
      }
    },
    {
      "cell_type": "code",
      "source": [
        "def arith_op(num1,num2,operator):\n",
        "  if operator =='+':\n",
        "    return num1+num2\n",
        "  elif operator == '/':\n",
        "    return num1/num2\n",
        "  else:\n",
        "    return \"not a valid operator\"\n",
        "\n",
        "num1 = int(input(\"Enter first operand : \"))\n",
        "num2 = int(input(\"\\nEnter second operand : \"))\n",
        "operator = input(\"\\nEnter the operator : \")\n",
        "\n",
        "res = arith_op(num1,num2,operator)\n",
        "print(\"\\nYour output is : \",res)"
      ],
      "metadata": {
        "id": "qk5ue9nOdhAa",
        "colab": {
          "base_uri": "https://localhost:8080/"
        },
        "outputId": "7ae3c0ce-4dba-457d-a8c9-3c7e6c859afa"
      },
      "execution_count": 1,
      "outputs": [
        {
          "output_type": "stream",
          "name": "stdout",
          "text": [
            "Enter first operand : 20\n",
            "\n",
            "Enter second operand : 30\n",
            "\n",
            "Enter the operator : +\n",
            "\n",
            "Your output is :  50\n"
          ]
        }
      ]
    },
    {
      "cell_type": "markdown",
      "source": [
        "\n",
        "\n",
        "---\n",
        "\n"
      ],
      "metadata": {
        "id": "PBQkB95NCQtb"
      }
    },
    {
      "cell_type": "markdown",
      "source": [
        "**3. Write a Python program to find the area of a triangle?**\n",
        "\n"
      ],
      "metadata": {
        "id": "ieDWBeM_CSpK"
      }
    },
    {
      "cell_type": "code",
      "source": [
        "import math\n",
        "def area_of_triangle(a,b,c):\n",
        "  s = (a+b+c)/2\n",
        "  return math.sqrt(s*(s-a)*(s-b)*(s-c))\n",
        "\n",
        "a = int(input(\"Enter the length of first size : \"))\n",
        "b = int(input(\"\\nEnter the length of second size : \"))\n",
        "c = int(input(\"\\nEnter the length of third size : \"))\n",
        "\n",
        "if type(a)==type(b)==type(c)==int:\n",
        "    res = area_of_triangle(a,b,c)\n",
        "    print(\"\\nArea of the triangle with side {},{} and {} is {} \".format(a,b,c,res))\n",
        "else :\n",
        "  print(\"\\nPlease enter integer value only\")\n"
      ],
      "metadata": {
        "colab": {
          "base_uri": "https://localhost:8080/"
        },
        "id": "i9zYF-xQC7IL",
        "outputId": "f7d80a54-7eb2-41f6-a509-2b2336bbe70a"
      },
      "execution_count": 6,
      "outputs": [
        {
          "output_type": "stream",
          "name": "stdout",
          "text": [
            "Enter the length of first size : 5\n",
            "\n",
            "Enter the length of second size : 6\n",
            "\n",
            "Enter the length of third size : 7\n",
            "\n",
            "Area of the triangle with side 5,6 and 7 is 14.696938456699069 \n"
          ]
        }
      ]
    },
    {
      "cell_type": "markdown",
      "source": [
        "\n",
        "\n",
        "---\n",
        "\n"
      ],
      "metadata": {
        "id": "QlTn1zAUGGVw"
      }
    },
    {
      "cell_type": "markdown",
      "source": [
        "**4. Write a Python program to swap two variables?**"
      ],
      "metadata": {
        "id": "RIwC9Pe8GH-o"
      }
    },
    {
      "cell_type": "code",
      "source": [
        "n1 = input(\"Enter the first variable : \")\n",
        "n2 = input(\"\\nEnter the second variable : \")\n",
        "\n",
        "print(\"\\nEalier first and second variables were  {} and {}.\".format(n1,n2))\n",
        "\n",
        "temp = n1\n",
        "n1 = n2\n",
        "n2 = temp\n",
        "print(\"\\nNow the first and second variables are  {} and {}.\".format(n1,n2))\n",
        "  "
      ],
      "metadata": {
        "colab": {
          "base_uri": "https://localhost:8080/"
        },
        "id": "6Bjz2hwHGMsQ",
        "outputId": "3bac99d1-f196-4783-94b0-86a4ca3ed73b"
      },
      "execution_count": 8,
      "outputs": [
        {
          "output_type": "stream",
          "name": "stdout",
          "text": [
            "Enter the first variable : cat\n",
            "\n",
            "Enter the second variable : dog\n",
            "\n",
            "Ealier first and second variables were  cat and dog.\n",
            "\n",
            "Now the first and second variables are  dog and cat.\n"
          ]
        }
      ]
    },
    {
      "cell_type": "markdown",
      "source": [
        "\n",
        "\n",
        "---\n",
        "\n"
      ],
      "metadata": {
        "id": "e6n4EgRYHetR"
      }
    },
    {
      "cell_type": "markdown",
      "source": [
        "**5. Write a Python program to generate a random number?**"
      ],
      "metadata": {
        "id": "iPfc7FGLHglp"
      }
    },
    {
      "cell_type": "code",
      "source": [
        "import random\n",
        "import math\n",
        "n = int(input(\"How many random number you want? : \"))\n",
        "\n",
        "while n:\n",
        "  rand_num = math.floor((random.random())*10)\n",
        "  print(rand_num)\n",
        "  n-=1"
      ],
      "metadata": {
        "colab": {
          "base_uri": "https://localhost:8080/"
        },
        "id": "PEK-ZhMYHrNf",
        "outputId": "f5a0cb75-03c8-4a6d-92af-58e79994bf85"
      },
      "execution_count": 13,
      "outputs": [
        {
          "output_type": "stream",
          "name": "stdout",
          "text": [
            "How many random number you want? : 5\n",
            "2\n",
            "7\n",
            "1\n",
            "3\n",
            "4\n"
          ]
        }
      ]
    },
    {
      "cell_type": "markdown",
      "source": [
        "\n",
        "\n",
        "---\n",
        "\n"
      ],
      "metadata": {
        "id": "_Y7ogquSKEZN"
      }
    },
    {
      "cell_type": "markdown",
      "source": [
        "### Submitted by - Pranav Kumar\n",
        "### Date - 01/09/2022"
      ],
      "metadata": {
        "id": "fWqa7d7ZKIe6"
      }
    }
  ]
}
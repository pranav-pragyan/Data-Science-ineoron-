{
  "nbformat": 4,
  "nbformat_minor": 0,
  "metadata": {
    "colab": {
      "provenance": [],
      "authorship_tag": "ABX9TyMbcGY+56D5TiVmlsspZr31",
      "include_colab_link": true
    },
    "kernelspec": {
      "name": "python3",
      "display_name": "Python 3"
    },
    "language_info": {
      "name": "python"
    }
  },
  "cells": [
    {
      "cell_type": "markdown",
      "metadata": {
        "id": "view-in-github",
        "colab_type": "text"
      },
      "source": [
        "<a href=\"https://colab.research.google.com/github/pranav-pragyan/Data-Science-ineoron-/blob/main/Python_Basis_Program/Assignment_2.ipynb\" target=\"_parent\"><img src=\"https://colab.research.google.com/assets/colab-badge.svg\" alt=\"Open In Colab\"/></a>"
      ]
    },
    {
      "cell_type": "markdown",
      "source": [
        "\n",
        "# Programming Assignment 2 Solutions\n",
        "\n",
        "---\n",
        "\n"
      ],
      "metadata": {
        "id": "JDjZzoR5MfZT"
      }
    },
    {
      "cell_type": "markdown",
      "source": [
        "**1. Write a Python program to convert kilometers to miles?**"
      ],
      "metadata": {
        "id": "tMRCqNUpMnZ-"
      }
    },
    {
      "cell_type": "code",
      "execution_count": 1,
      "metadata": {
        "colab": {
          "base_uri": "https://localhost:8080/"
        },
        "id": "i7fTtOHpMTsy",
        "outputId": "3e3f5923-2e60-4701-c37c-796b13be2569"
      },
      "outputs": [
        {
          "output_type": "stream",
          "name": "stdout",
          "text": [
            "Enter the length in kilometer : 5\n",
            "5 kilometers in miles = 3.10685595.\n"
          ]
        }
      ],
      "source": [
        "#1 km = 0.62137119 miles\n",
        "length = int(input(\"Enter the length in kilometer : \"))\n",
        "\n",
        "print(\"{} kilometers in miles = {}.\".format(length,length*0.62137119))"
      ]
    },
    {
      "cell_type": "markdown",
      "source": [
        "\n",
        "\n",
        "---\n",
        "\n"
      ],
      "metadata": {
        "id": "sZDhq22DNraD"
      }
    },
    {
      "cell_type": "markdown",
      "source": [
        "**2. Write a Python program to convert Celsius to Fahrenheit?**"
      ],
      "metadata": {
        "id": "474YcAHyNtSv"
      }
    },
    {
      "cell_type": "code",
      "source": [
        "#(30°C x 1.8) + 32 = 86°F\n",
        "temp_in_cel = int(input(\"Enter the temperature in Celsius : \"))\n",
        "print(\"{} degree Celsius in  Fahrenheit = {}.\".format(temp_in_cel,(temp_in_cel*1.8)+32))\n"
      ],
      "metadata": {
        "colab": {
          "base_uri": "https://localhost:8080/"
        },
        "id": "F36Gn7wCNyVw",
        "outputId": "3f0f016f-d2ad-4e03-bdc3-b52cc2b7d55f"
      },
      "execution_count": 2,
      "outputs": [
        {
          "output_type": "stream",
          "name": "stdout",
          "text": [
            "Enter the temperature in Celsius : 0\n",
            "0 degree Celsius in  Fahrenheit = 32.0.\n"
          ]
        }
      ]
    },
    {
      "cell_type": "markdown",
      "source": [
        "\n",
        "\n",
        "---\n",
        "\n"
      ],
      "metadata": {
        "id": "KjBJ3japO85k"
      }
    },
    {
      "cell_type": "markdown",
      "source": [
        "**3. Write a Python program to display calendar?**"
      ],
      "metadata": {
        "id": "UjzcHCUJO-V3"
      }
    },
    {
      "cell_type": "code",
      "source": [
        "import calendar\n",
        "\n",
        "year = int(input(\"Enter the calender year: \"))\n",
        "print(calendar.calendar(year))\n",
        "\n"
      ],
      "metadata": {
        "colab": {
          "base_uri": "https://localhost:8080/"
        },
        "id": "J1aQsogUPByS",
        "outputId": "5a5060e6-5ffa-41e6-9504-c43013a151d7"
      },
      "execution_count": 4,
      "outputs": [
        {
          "output_type": "stream",
          "name": "stdout",
          "text": [
            "Enter the calender year: 2022\n",
            "                                  2022\n",
            "\n",
            "      January                   February                   March\n",
            "Mo Tu We Th Fr Sa Su      Mo Tu We Th Fr Sa Su      Mo Tu We Th Fr Sa Su\n",
            "                1  2          1  2  3  4  5  6          1  2  3  4  5  6\n",
            " 3  4  5  6  7  8  9       7  8  9 10 11 12 13       7  8  9 10 11 12 13\n",
            "10 11 12 13 14 15 16      14 15 16 17 18 19 20      14 15 16 17 18 19 20\n",
            "17 18 19 20 21 22 23      21 22 23 24 25 26 27      21 22 23 24 25 26 27\n",
            "24 25 26 27 28 29 30      28                        28 29 30 31\n",
            "31\n",
            "\n",
            "       April                      May                       June\n",
            "Mo Tu We Th Fr Sa Su      Mo Tu We Th Fr Sa Su      Mo Tu We Th Fr Sa Su\n",
            "             1  2  3                         1             1  2  3  4  5\n",
            " 4  5  6  7  8  9 10       2  3  4  5  6  7  8       6  7  8  9 10 11 12\n",
            "11 12 13 14 15 16 17       9 10 11 12 13 14 15      13 14 15 16 17 18 19\n",
            "18 19 20 21 22 23 24      16 17 18 19 20 21 22      20 21 22 23 24 25 26\n",
            "25 26 27 28 29 30         23 24 25 26 27 28 29      27 28 29 30\n",
            "                          30 31\n",
            "\n",
            "        July                     August                  September\n",
            "Mo Tu We Th Fr Sa Su      Mo Tu We Th Fr Sa Su      Mo Tu We Th Fr Sa Su\n",
            "             1  2  3       1  2  3  4  5  6  7                1  2  3  4\n",
            " 4  5  6  7  8  9 10       8  9 10 11 12 13 14       5  6  7  8  9 10 11\n",
            "11 12 13 14 15 16 17      15 16 17 18 19 20 21      12 13 14 15 16 17 18\n",
            "18 19 20 21 22 23 24      22 23 24 25 26 27 28      19 20 21 22 23 24 25\n",
            "25 26 27 28 29 30 31      29 30 31                  26 27 28 29 30\n",
            "\n",
            "      October                   November                  December\n",
            "Mo Tu We Th Fr Sa Su      Mo Tu We Th Fr Sa Su      Mo Tu We Th Fr Sa Su\n",
            "                1  2          1  2  3  4  5  6                1  2  3  4\n",
            " 3  4  5  6  7  8  9       7  8  9 10 11 12 13       5  6  7  8  9 10 11\n",
            "10 11 12 13 14 15 16      14 15 16 17 18 19 20      12 13 14 15 16 17 18\n",
            "17 18 19 20 21 22 23      21 22 23 24 25 26 27      19 20 21 22 23 24 25\n",
            "24 25 26 27 28 29 30      28 29 30                  26 27 28 29 30 31\n",
            "31\n",
            "\n"
          ]
        }
      ]
    },
    {
      "cell_type": "markdown",
      "source": [
        "\n",
        "\n",
        "---\n",
        "\n"
      ],
      "metadata": {
        "id": "wMEVhLtgPbuz"
      }
    },
    {
      "cell_type": "markdown",
      "source": [
        "**4. Write a Python program to solve quadratic equation?**"
      ],
      "metadata": {
        "id": "BZK_-qYqPdFu"
      }
    },
    {
      "cell_type": "code",
      "source": [
        "import math\n",
        "import cmath\n",
        "\n",
        "def quad_eq(a,b,c):\n",
        "  dis = b*b-4*a*c\n",
        "  if dis == 0:\n",
        "    root = -b/2*a\n",
        "    print(\"Roots are Real and equale :\")\n",
        "    print(\"\\nFirst root = second root = \",root)\n",
        "  if dis>0:\n",
        "    root1 = (-b-math.sqrt(dis))/(2 * a)\n",
        "    root2 = (-b+math.sqrt(dis))/(2 * a)\n",
        "    print(\"Roots are Real and unequale :\")\n",
        "    print(\"\\nFirst root = {} and second root = {}.\".format(root1,root2))\n",
        "  if dis<0:\n",
        "    root1 = (-b-cmath.sqrt(dis))/(2 * a)\n",
        "    root2 = (-b+cmath.sqrt(dis))/(2 * a)\n",
        "    print(\"Roots are imaginary and unequale :\")\n",
        "    print(\"\\nFirst root = {} and second root = {}.\".format(root1,root2))\n",
        "\n",
        "print(\"Form of the quadratic equation : a*x^2 + b*x + c = 0\")\n",
        "a = int((input(\"\\nEnter the value of a : \")))\n",
        "b = int((input(\"\\nEnter the value of b : \")))\n",
        "c = int((input(\"\\nEnter the value of c : \")))\n",
        "print(\"\\n\")\n",
        "quad_eq(a,b,c)"
      ],
      "metadata": {
        "colab": {
          "base_uri": "https://localhost:8080/"
        },
        "id": "cK13UduRPgtM",
        "outputId": "1052f80f-d966-4c6d-f735-4cc1cb6bf11d"
      },
      "execution_count": 7,
      "outputs": [
        {
          "output_type": "stream",
          "name": "stdout",
          "text": [
            "Form of the quadratic equation : a*x^2 + b*x + c = 0\n",
            "\n",
            "Enter the value of a : 5\n",
            "\n",
            "Enter the value of b : 6\n",
            "\n",
            "Enter the value of c : 7\n",
            "\n",
            "\n",
            "Roots are imaginary and unequale :\n",
            "\n",
            "First root = (-0.6-1.0198039027185568j) and second root = (-0.6+1.0198039027185568j).\n"
          ]
        }
      ]
    },
    {
      "cell_type": "markdown",
      "source": [
        "\n",
        "\n",
        "---\n",
        "\n"
      ],
      "metadata": {
        "id": "evwqZrNwSXR5"
      }
    },
    {
      "cell_type": "markdown",
      "source": [
        "**5. Write a Python program to swap two variables without temp variable?**"
      ],
      "metadata": {
        "id": "d7yVjXBWSYmt"
      }
    },
    {
      "cell_type": "code",
      "source": [
        "a = int((input(\"\\nEnter the first number : \")))\n",
        "b = int((input(\"\\nEnter the second number : \")))\n",
        "print(\"\\nEalier first and second variables were  {} and {}.\".format(a,b))\n",
        "\n",
        "a = a ^ b  \n",
        "b = a ^ b  \n",
        "a = a ^ b\n",
        "\n",
        "print(\"\\nNow the first and second variables are  {} and {}.\".format(a,b))\n"
      ],
      "metadata": {
        "colab": {
          "base_uri": "https://localhost:8080/"
        },
        "id": "rPJtAp0OSckj",
        "outputId": "676a2760-8557-4b36-af90-c1df3f31531d"
      },
      "execution_count": 12,
      "outputs": [
        {
          "output_type": "stream",
          "name": "stdout",
          "text": [
            "\n",
            "Enter the first number : 15\n",
            "\n",
            "Enter the second number : 20\n",
            "\n",
            "Ealier first and second variables were  15 and 20.\n",
            "\n",
            "Now the first and second variables are  20 and 15.\n"
          ]
        }
      ]
    },
    {
      "cell_type": "markdown",
      "source": [
        "\n",
        "\n",
        "---\n",
        "\n"
      ],
      "metadata": {
        "id": "Q3E0oYK_T0nK"
      }
    },
    {
      "cell_type": "markdown",
      "source": [
        "### Submitted by - Pranav Kumar\n",
        "### Date - 01/09/2022"
      ],
      "metadata": {
        "id": "ShxZrrMqT4pF"
      }
    }
  ]
}